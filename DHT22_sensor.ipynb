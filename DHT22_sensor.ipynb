{
 "cells": [
  {
   "cell_type": "markdown",
   "id": "adb96d52-4ac6-4cf9-b2ab-77391b879ad0",
   "metadata": {},
   "source": [
    "DHT22 sensor (Input through Arduino and output from Matlab)"
   ]
  },
  {
   "cell_type": "markdown",
   "id": "a85eb1e1-c0ac-4862-a726-e1cbefe40ece",
   "metadata": {},
   "source": [
    "Aim: In this programme we will see how to read the output data recieved from a DHT22 sensor using Matlab to  plot the real time temperature and humidity variation "
   ]
  },
  {
   "cell_type": "markdown",
   "id": "eb71faa3-aa00-4a8a-a19c-648b10a6b5a2",
   "metadata": {},
   "source": [
    "Hardware Setup:\n",
    "\n",
    "Connect the DHT22 sensor to the Arduino Uno:\n",
    "\n",
    "Connect the VCC pin of the DHT22 to the 5V pin of the Arduino.\n",
    "\n",
    "Connect the data pin of the DHT22 to any digital pin of the Arduino (e.g., pin 2).\n",
    "\n",
    "Connect the ground (GND) pin of the DHT22 to the ground (GND) pin of the Arduino.\n"
   ]
  },
  {
   "cell_type": "markdown",
   "id": "c925bd0c-c2c4-4d4e-ba3f-1db81530d205",
   "metadata": {},
   "source": [
    "Software Setup:\n",
    "\n",
    "Step 1. Install Arduino IDE:\n",
    "\n",
    "*Download and install the Arduino IDE from the official Arduino website: https://www.arduino.cc/en/software\n",
    "\n",
    "Step 2. Install DHT Sensor Library:\n",
    "\n",
    "*Open Arduino IDE.\n",
    "\n",
    "*Go to Sketch > Include Library > Manage Libraries.\n",
    "\n",
    "*Search for \"DHT sensor library\" and install it.\n",
    "\n",
    "Step 3. Write Arduino Code:\n",
    "\n",
    "*Open Arduino IDE and create a new sketch.\n",
    "\n",
    "*Code is given at the end\n",
    "\n",
    "Step 4. load Code to Arduino:\n",
    "\n",
    "*Connect your Arduino Uno to your computer via USB.\n",
    "\n",
    "*Select the correct board and port from the Tools menu. \n",
    "\n",
    "*Click the Upload button to upload the code to your Arduino.\n",
    "\n",
    "Step 5. Connect Arduino to MATLAB:\n",
    "\n",
    "*MATLAB supports serial communication with Arduino. You can use the serial object in MATLAB to communicate \n",
    "with the Arduino.\n",
    "\n",
    "*Matlab code is given at the end\n",
    "\n",
    "Step 6. Final Steps:\n",
    "\n",
    "*Upload the Arduino code.\n",
    "\n",
    "*Run the MATLAB code to read and display temperature and humidity data from the Arduino.\n",
    "\n",
    "*You can modify the MATLAB code to process or plot the data according to your requirements."
   ]
  },
  {
   "cell_type": "markdown",
   "id": "02de2e7c-f0c7-4fa6-8a23-d1218d9798e6",
   "metadata": {},
   "source": [
    "Codes: "
   ]
  },
  {
   "cell_type": "markdown",
   "id": "50d5744a-00c5-4036-b200-f22095fab525",
   "metadata": {},
   "source": [
    "1). Arduino Code: Open Arduino and paste this code and load it to arduino"
   ]
  },
  {
   "cell_type": "markdown",
   "id": "5970291f-1cc5-48e2-bf7e-a0efefd61907",
   "metadata": {},
   "source": [
    "![alt text](Arduino_matlab_dht22.png)\n"
   ]
  },
  {
   "cell_type": "markdown",
   "id": "b52799d3-0d25-4ba3-8dbe-bc51b99af706",
   "metadata": {},
   "source": [
    "2). Matlab Code: Open Matlab 2024a and paste this code and then run the code"
   ]
  },
  {
   "cell_type": "markdown",
   "id": "84e0da81-1e28-4c30-9f99-17439ff60d47",
   "metadata": {},
   "source": [
    "![alt text](p1.png)"
   ]
  },
  {
   "cell_type": "markdown",
   "id": "123161d2-ac96-47e3-a883-118164babfa0",
   "metadata": {},
   "source": [
    "![alt text](p2.png)"
   ]
  },
  {
   "cell_type": "markdown",
   "id": "5005971a-cbfc-4c1d-bb52-9e0db2249d65",
   "metadata": {},
   "source": [
    "![alt text](p3.png)\n"
   ]
  },
  {
   "cell_type": "code",
   "execution_count": null,
   "id": "a817a76a-4fbb-4e51-9b8d-fd327191d219",
   "metadata": {},
   "outputs": [],
   "source": []
  }
 ],
 "metadata": {
  "kernelspec": {
   "display_name": "Python 3 (ipykernel)",
   "language": "python",
   "name": "python3"
  },
  "language_info": {
   "codemirror_mode": {
    "name": "ipython",
    "version": 3
   },
   "file_extension": ".py",
   "mimetype": "text/x-python",
   "name": "python",
   "nbconvert_exporter": "python",
   "pygments_lexer": "ipython3",
   "version": "3.11.7"
  }
 },
 "nbformat": 4,
 "nbformat_minor": 5
}
