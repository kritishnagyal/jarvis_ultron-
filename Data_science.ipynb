{
 "cells": [
  {
   "cell_type": "markdown",
   "id": "8e14db47-af3c-4163-bc2a-8fec8ff07258",
   "metadata": {},
   "source": [
    "Kritish Nagyal, "
   ]
  },
  {
   "cell_type": "markdown",
   "id": "d5d19c51-4390-4e81-9917-a7a93e9975f1",
   "metadata": {},
   "source": [
    "Q1: Create a 1D array of 9 elements using numpy module and reshape it into 2D array of size 3*3"
   ]
  },
  {
   "cell_type": "code",
   "execution_count": 305,
   "id": "d0430081-66b9-4c6c-8817-a585df809400",
   "metadata": {},
   "outputs": [],
   "source": [
    "#importing certain libraries\n",
    "import numpy as np\n",
    "import pandas as pd\n",
    "import seaborn as sns\n",
    "import matplotlib.pyplot as plt\n",
    "from sklearn.preprocessing import StandardScaler, MinMaxScaler\n",
    "import scipy.stats as stats"
   ]
  },
  {
   "cell_type": "code",
   "execution_count": 306,
   "id": "8b2d0984-ad2c-4081-aac2-fafefcfb48a6",
   "metadata": {},
   "outputs": [
    {
     "name": "stdout",
     "output_type": "stream",
     "text": [
      "Actual array is: [1 2 3 4 5 6 7 8 9]\n",
      "After reshaping:\n",
      " [[1 2 3]\n",
      " [4 5 6]\n",
      " [7 8 9]]\n"
     ]
    }
   ],
   "source": [
    "a=np.array([1,2,3,4,5,6,7,8,9])\n",
    "print('Actual array is:',a)\n",
    "#reshaping 1D array to 2D\n",
    "b=a.reshape(3,3)\n",
    "print('After reshaping:\\n',b)"
   ]
  },
  {
   "cell_type": "markdown",
   "id": "2797d2fe-ded2-486c-ae62-11e10277def2",
   "metadata": {},
   "source": [
    "Q2: What will be the output: \n",
    "list3=[x for x in range(10) if x%2==0]\n",
    "print(list3)"
   ]
  },
  {
   "cell_type": "code",
   "execution_count": 307,
   "id": "ea952113-b2b5-47de-85d1-70beb6d8e0f1",
   "metadata": {},
   "outputs": [
    {
     "name": "stdout",
     "output_type": "stream",
     "text": [
      "[0, 2, 4, 6, 8]\n"
     ]
    }
   ],
   "source": [
    "list3=[x for x in range(10) if x%2==0] \n",
    "print(list3)\n",
    "#the range is from 0 to 9\n",
    "#and x is even so x must be 0,2,4,6,8 "
   ]
  },
  {
   "cell_type": "markdown",
   "id": "72d0e18c-20b7-4730-8b59-cf0d357381b6",
   "metadata": {},
   "source": [
    "Q3: Let we have a string text = \"PythonProgramming\" \n",
    "\n",
    "Perform Slicing as:\n",
    "\n",
    "a)Slice the string to obtain first 6 elements.\n",
    "\n",
    "b)Extract the elements from index 6 to index 13\n",
    "\n",
    "c)Extract last 5 characters of the string\n",
    "\n",
    "d)Create a new string by sclicing and concatinating the first 4 and last 3 characters of the string"
   ]
  },
  {
   "cell_type": "code",
   "execution_count": 308,
   "id": "c54fb4f9-9ddd-450f-9bd0-517f4fc7f1b2",
   "metadata": {},
   "outputs": [
    {
     "name": "stdout",
     "output_type": "stream",
     "text": [
      "Python\n",
      "Programm\n",
      "mming\n",
      "Pything\n"
     ]
    }
   ],
   "source": [
    "text=\"PythonProgramming\"\n",
    "#a) to obtain first 6 elements\n",
    "#Note: indexing begins from 0 to n-1 \n",
    "t1=text[0:6]\n",
    "print(t1)\n",
    "#b)elements from index 6 to index 13\n",
    "t2=text[6:14]\n",
    "print(t2)\n",
    "#c) last 5 characters\n",
    "t3=text[-5:]\n",
    "print(t3)\n",
    "#d)sclicing and concatinating the first 4 and last 3 characters of the string\n",
    "t4=text[0:4]+text[-3:]\n",
    "print(t4)"
   ]
  },
  {
   "cell_type": "markdown",
   "id": "f19be386-90f1-4722-aaa0-19de018b8e73",
   "metadata": {},
   "source": [
    "Q4: Write a python programme to create two data frames namely d1,d2. Construct d1 utilizing a two dimensional list and create d2 using dictionary"
   ]
  },
  {
   "cell_type": "code",
   "execution_count": 309,
   "id": "09506762-9962-4dca-a256-e3f11c0f9397",
   "metadata": {},
   "outputs": [
    {
     "name": "stdout",
     "output_type": "stream",
     "text": [
      "[['Raman', 18, 50000], ['Aryan', 20, 45000], ['Vinay', 24, 55000]]\n",
      "{'Name': ['Krish', 'Ayush', 'Sandy'], 'Age': [22, 25, 28], 'Salary': [60000, 25000, 35000]}\n",
      "    Name  Age  Salary\n",
      "0  Raman   18   50000\n",
      "1  Aryan   20   45000\n",
      "2  Vinay   24   55000\n",
      "\n",
      "\n",
      "    Name  Age  Salary\n",
      "0  Krish   22   60000\n",
      "1  Ayush   25   25000\n",
      "2  Sandy   28   35000\n"
     ]
    }
   ],
   "source": [
    "lst=[['Raman',18,50000],['Aryan',20,45000],['Vinay',24,55000]]\n",
    "dict={'Name':['Krish','Ayush','Sandy'],\n",
    "      'Age':[22,25,28],\n",
    "      'Salary':[60000,25000,35000]}\n",
    "print(lst)\n",
    "print(dict)\n",
    "tp=['Name','Age','Salary']\n",
    "d1=pd.DataFrame(lst, columns=tp)\n",
    "print(d1)\n",
    "print('\\n')\n",
    "d2=pd.DataFrame(dict)\n",
    "print(d2)"
   ]
  },
  {
   "cell_type": "markdown",
   "id": "3c4296de-23a6-4703-9fa5-c13d902a44e6",
   "metadata": {},
   "source": [
    "Q5: Write a python code to discuss in detail about the variance, standard deviation, covariance, correlation "
   ]
  },
  {
   "cell_type": "code",
   "execution_count": 310,
   "id": "294ec208-2fd4-4a00-901f-e8a62db03fa1",
   "metadata": {},
   "outputs": [
    {
     "name": "stdout",
     "output_type": "stream",
     "text": [
      "     x    y\n",
      "0  2.5  2.4\n",
      "1  0.5  0.7\n",
      "2  2.2  2.9\n",
      "3  1.9  2.2\n",
      "4  3.1  3.0\n",
      "5  2.3  2.7\n",
      "6  2.0  1.6\n",
      "7  1.0  1.1\n",
      "8  1.5  1.6\n",
      "9  1.1  0.9\n",
      "\n",
      "\n",
      "Variance in x,y:\n",
      " x    0.5549\n",
      "y    0.6449\n",
      "dtype: float64\n",
      "Standard Deviation in x,y:\n",
      " x    0.744916\n",
      "y    0.803057\n",
      "dtype: float64\n",
      "Covariance b/w x and y: -0.010000000000000005\n",
      "Correlation b/w x and y: -0.9999999999999998\n"
     ]
    },
    {
     "name": "stderr",
     "output_type": "stream",
     "text": [
      "/opt/anaconda3/lib/python3.11/site-packages/numpy/core/fromnumeric.py:3785: FutureWarning: The behavior of DataFrame.var with axis=None is deprecated, in a future version this will reduce over both axes and return a scalar. To retain the old behavior, pass axis=0 (or do not pass axis)\n",
      "  return var(axis=axis, dtype=dtype, out=out, ddof=ddof, **kwargs)\n",
      "/opt/anaconda3/lib/python3.11/site-packages/numpy/core/fromnumeric.py:3643: FutureWarning: The behavior of DataFrame.std with axis=None is deprecated, in a future version this will reduce over both axes and return a scalar. To retain the old behavior, pass axis=0 (or do not pass axis)\n",
      "  return std(axis=axis, dtype=dtype, out=out, ddof=ddof, **kwargs)\n"
     ]
    }
   ],
   "source": [
    "#loding a csv file with data in it\n",
    "data=pd.read_csv('rawdata.csv')\n",
    "print(data)\n",
    "print('\\n')\n",
    "v=np.var(data)\n",
    "print('Variance in x,y:\\n',v)\n",
    "s=np.std(data)\n",
    "print('Standard Deviation in x,y:\\n',s)\n",
    "c=np.cov(data)[0,1]\n",
    "print('Covariance b/w x and y:',c)\n",
    "d=np.corrcoef(data)[0,1]\n",
    "print('Correlation b/w x and y:',d)"
   ]
  },
  {
   "cell_type": "markdown",
   "id": "5a9386cc-a008-42dc-89e4-7665559232c4",
   "metadata": {},
   "source": [
    "Q6: Write a python programme to explain the concept of standardization and normalization. Discuss the circumstances under which it is appropiate to utilize these techniques in data processing "
   ]
  },
  {
   "cell_type": "code",
   "execution_count": 311,
   "id": "579ee4f7-90ee-42ce-b597-c0ba8709895e",
   "metadata": {},
   "outputs": [
    {
     "name": "stdout",
     "output_type": "stream",
     "text": [
      "[[1 2]\n",
      " [3 4]\n",
      " [5 6]]\n",
      "Standardized data:\n",
      " [[-1.22474487 -1.22474487]\n",
      " [ 0.          0.        ]\n",
      " [ 1.22474487  1.22474487]]\n",
      "Normalized data:\n",
      " [[0.  0. ]\n",
      " [0.5 0.5]\n",
      " [1.  1. ]]\n"
     ]
    }
   ],
   "source": [
    "d = np.array([[1, 2],\n",
    "                 [3, 4],\n",
    "                 [5, 6]])\n",
    "print(d)\n",
    "# Standardization\n",
    "data_standardized = StandardScaler().fit_transform(d)\n",
    "print(\"Standardized data:\\n\",data_standardized)\n",
    "\n",
    "# Normalization\n",
    "data_normalized = MinMaxScaler().fit_transform(d)\n",
    "print(\"Normalized data:\\n\",data_normalized)\n",
    "\n",
    "#Standardization is appropriate when:\n",
    "# *The features in the dataset have different units or scales.\n",
    "# *The dataset contains outliers that may affect the performance of the model.\n",
    "# *The algorithm being used assumes that the features are normally distributed.\n",
    "\n",
    "#Normalization is appropriate when:\n",
    "# *The algorithm being used relies on the magnitude of features rather than their distribution.\n",
    "# *The features have different ranges and units.\n",
    "# *The dataset does not contain significant outliers.\n"
   ]
  },
  {
   "cell_type": "markdown",
   "id": "d42db257-aa04-41dc-aaf7-791c458277aa",
   "metadata": {},
   "source": [
    "Q7: Write a Python Programme for reading the weather data from a file named \"weather.csv\" for 50 cities of a state in India. The file has following fields:\n",
    "City, Wind,Prescipitaion, Highest_Temperature, Lowest_Temperature Humidity, Atmospheric_pressure. Your programme should do following \n",
    "\n",
    "a)Displays the 5 entries of \"City\"\n",
    "\n",
    "b)Display the first 5 entries of dataframe\n",
    "\n",
    "c)Displays the total null entries in \"Precipitation\" and \"Humidity\"\n",
    "\n",
    "d)Displays all the rows by removing an instance of missing values\n",
    "\n",
    "e)Find the dimentions of dataframe\n",
    "\n",
    "f)Fill the missing values in \"humidity\" and \"prescipition\" with the mean of the columns."
   ]
  },
  {
   "cell_type": "code",
   "execution_count": 312,
   "id": "26f42947-ddef-4f90-b917-ea715d6881a0",
   "metadata": {},
   "outputs": [
    {
     "name": "stdout",
     "output_type": "stream",
     "text": [
      "    Unnamed: 0 City_name Wind Speed Precipitation  Highest_temp  Lowest_temp  \\\n",
      "0          NaN     Jammu    10 km/h            6%            47            3   \n",
      "1          NaN   Kashmir    13 km/h           10%            39           -9   \n",
      "2          NaN  Udhampur    10 km/h            6%            45            2   \n",
      "3          NaN   Rajouri    11 km/h            8%            40           -3   \n",
      "4          NaN   Akhnoor    15 km/h            6%            44            4   \n",
      "5          NaN     Reasi    13 km/h           NaN            43            5   \n",
      "6          NaN   Pulwama    14 km/h            8%            36           -5   \n",
      "7          NaN   Gulmarg    15 km/h           12%            30           -7   \n",
      "8          NaN    Kargil    16 km/h            3%            35          -10   \n",
      "9          NaN       Leh    17 km/h            4%            38          -19   \n",
      "10         NaN  Baramula    18 km/h           NaN            29          -10   \n",
      "11         NaN   Shopian    19 km/h           10%            27           -4   \n",
      "12         NaN    Poonch    20 km/h           11%            25           -7   \n",
      "13         NaN     Samba    21 km/h            7%            45            4   \n",
      "14         NaN    Kathua    22 km/h           NaN            46            6   \n",
      "15         NaN      Siot    23 km/h            8%            40            3   \n",
      "16         NaN   Lamberi    24 km/h            8%            42            2   \n",
      "17         NaN  Nowshera    25 km/h            7%            39            4   \n",
      "18         NaN    Mendar    26 km/h            6%            40           -1   \n",
      "\n",
      "   Humidity Atmospheric_pressure  \n",
      "0       22%              1007hPa  \n",
      "1       38%              1007hPa  \n",
      "2       NaN              1007hPa  \n",
      "3       25%              1007hPa  \n",
      "4       19%              1007hPa  \n",
      "5       25%              1007hPa  \n",
      "6       NaN              1007hPa  \n",
      "7       25%              1007hPa  \n",
      "8       25%              1007hPa  \n",
      "9       25%              1007hPa  \n",
      "10      25%              1007hPa  \n",
      "11      NaN              1007hPa  \n",
      "12      25%              1007hPa  \n",
      "13      25%              1007hPa  \n",
      "14      25%              1007hPa  \n",
      "15      NaN              1007hPa  \n",
      "16      25%              1007hPa  \n",
      "17      25%              1007hPa  \n",
      "18      25%              1007hPa  \n"
     ]
    }
   ],
   "source": [
    "#loading the weather csv file \n",
    "d1=pd.read_csv('Weather.csv')\n",
    "print(d1)"
   ]
  },
  {
   "cell_type": "code",
   "execution_count": 314,
   "id": "5583b6cb-d078-45bb-aac2-1af07bc0157c",
   "metadata": {},
   "outputs": [
    {
     "name": "stdout",
     "output_type": "stream",
     "text": [
      "1    Kashmir\n",
      "3    Rajouri\n",
      "5      Reasi\n",
      "7    Gulmarg\n",
      "9        Leh\n",
      "Name: City_name, dtype: object\n"
     ]
    }
   ],
   "source": [
    "#5 city names : \n",
    "r=d1['City_name'][1:10:2]\n",
    "print(r)"
   ]
  },
  {
   "cell_type": "code",
   "execution_count": 315,
   "id": "4126018c-69ab-4ae4-919a-1aef0d836370",
   "metadata": {},
   "outputs": [
    {
     "name": "stdout",
     "output_type": "stream",
     "text": [
      "   Unnamed: 0 City_name Wind Speed Precipitation  Highest_temp  Lowest_temp  \\\n",
      "0         NaN     Jammu    10 km/h            6%            47            3   \n",
      "1         NaN   Kashmir    13 km/h           10%            39           -9   \n",
      "2         NaN  Udhampur    10 km/h            6%            45            2   \n",
      "3         NaN   Rajouri    11 km/h            8%            40           -3   \n",
      "4         NaN   Akhnoor    15 km/h            6%            44            4   \n",
      "\n",
      "  Humidity Atmospheric_pressure  \n",
      "0      22%              1007hPa  \n",
      "1      38%              1007hPa  \n",
      "2      NaN              1007hPa  \n",
      "3      25%              1007hPa  \n",
      "4      19%              1007hPa  \n"
     ]
    }
   ],
   "source": [
    "#first 5 city names\n",
    "s=d1.head(5)\n",
    "print(s)"
   ]
  },
  {
   "cell_type": "code",
   "execution_count": 316,
   "id": "05682b7c-26d9-46b9-acff-f1c39928509b",
   "metadata": {},
   "outputs": [
    {
     "name": "stdout",
     "output_type": "stream",
     "text": [
      "Null values in Precipitation: 3\n",
      "Null values in Humidity: 4\n"
     ]
    }
   ],
   "source": [
    "#total null entries in precipitation and humidity\n",
    "f=pd.isnull(d1['Precipitation']).sum() \n",
    "g=pd.isnull(d1['Humidity']).sum()\n",
    "print('Null values in Precipitation:',f)\n",
    "print('Null values in Humidity:',g)"
   ]
  },
  {
   "cell_type": "code",
   "execution_count": 317,
   "id": "fc23ad31-19d8-4e0a-a3eb-abb7c0202102",
   "metadata": {},
   "outputs": [
    {
     "name": "stdout",
     "output_type": "stream",
     "text": [
      "   City_name Wind Speed  Highest_temp  Lowest_temp Atmospheric_pressure\n",
      "0      Jammu    10 km/h            47            3              1007hPa\n",
      "1    Kashmir    13 km/h            39           -9              1007hPa\n",
      "2   Udhampur    10 km/h            45            2              1007hPa\n",
      "3    Rajouri    11 km/h            40           -3              1007hPa\n",
      "4    Akhnoor    15 km/h            44            4              1007hPa\n",
      "5      Reasi    13 km/h            43            5              1007hPa\n",
      "6    Pulwama    14 km/h            36           -5              1007hPa\n",
      "7    Gulmarg    15 km/h            30           -7              1007hPa\n",
      "8     Kargil    16 km/h            35          -10              1007hPa\n",
      "9        Leh    17 km/h            38          -19              1007hPa\n",
      "10  Baramula    18 km/h            29          -10              1007hPa\n",
      "11   Shopian    19 km/h            27           -4              1007hPa\n",
      "12    Poonch    20 km/h            25           -7              1007hPa\n",
      "13     Samba    21 km/h            45            4              1007hPa\n",
      "14    Kathua    22 km/h            46            6              1007hPa\n",
      "15      Siot    23 km/h            40            3              1007hPa\n",
      "16   Lamberi    24 km/h            42            2              1007hPa\n",
      "17  Nowshera    25 km/h            39            4              1007hPa\n",
      "18    Mendar    26 km/h            40           -1              1007hPa\n"
     ]
    }
   ],
   "source": [
    "d=d1.dropna(axis=1)\n",
    "print(d)"
   ]
  },
  {
   "cell_type": "code",
   "execution_count": 318,
   "id": "8e41862e-8e60-46b2-823d-6c2aeb01c127",
   "metadata": {},
   "outputs": [
    {
     "name": "stdout",
     "output_type": "stream",
     "text": [
      "(19, 8)\n"
     ]
    }
   ],
   "source": [
    "# to find dimension of data frame\n",
    "print(d1.shape)"
   ]
  },
  {
   "cell_type": "markdown",
   "id": "a7ebd3c0-7cf2-4cdb-af0e-a6abb2c083f4",
   "metadata": {},
   "source": [
    "Q8: Explain Following with suitable example\n",
    "\n",
    "a) Supervised learning and Unsupervised learning\n",
    "\n",
    "b)Nominal and Ordinal Variable\n",
    "\n",
    "c)Normalise the following data using min-max normalization\n",
    "by setting min=0, max=1:\n",
    "\n",
    " 1000,2000,3000,9000"
   ]
  },
  {
   "cell_type": "markdown",
   "id": "841cbf02-31ea-4549-85a1-7cd7b0dbdeed",
   "metadata": {},
   "source": [
    "Ans: a) In supervised learning, the algorithm learns from labeled data, meaning that each training example in the dataset is paired with an associated label or output.\n",
    "The goal of supervised learning is to learn a mapping from input variables (features) to output variables (labels) based on the labeled training data\n",
    "\n",
    "Example: linear regression,logistic regression, decision trees\n"
   ]
  },
  {
   "cell_type": "markdown",
   "id": "795476c4-a464-4701-88d6-f89f052a0669",
   "metadata": {},
   "source": [
    "b)Nominal variables are categorical variables that represent \n",
    "categories or groups with no inherent order or ranking between them. In nominal variables the order does not matters.\n",
    "\n",
    "Example: Colour, Gender, Type of fruits\n",
    "\n",
    "Ordinal variables are categorical variables with distinct, ordered categories or groups.\n",
    "Unlike nominal variables, ordinal variables have a natural order or ranking between their categories, but the differences between the categories may not be uniformly meaningful. Here a hierchy is followed\n",
    "\n",
    "Examples: Very Hot - Hot - Cold - Very Cold, Grades(10,9,8,7....)"
   ]
  },
  {
   "cell_type": "markdown",
   "id": "c1127527-a1a8-4dfb-a155-b71dd0e9c3d1",
   "metadata": {},
   "source": [
    "c) To normalize the given data using min-max normalization with the range [0, 1], you can use the following formula:\n",
    "x(normalized) =(x - x(min))/ (x(max) - x(min))\n",
    "\n",
    "For 1000\n",
    "\n",
    "x=1000\n",
    "\n",
    "x(min)=0\n",
    "\n",
    "x(max)=1\n",
    "\n",
    "So, x(normalized) i.e. 1000(normalized) = (1000 - 0)/(1 - 0) = 1000\n",
    "\n",
    "\n",
    "\n",
    " For 2000\n",
    " \n",
    " x=2000\n",
    " \n",
    " x(min)=0\n",
    " \n",
    " x(max)=1\n",
    " \n",
    "​So, x(normalized) i.e. 2000(normalized) = (1000 - 0)/(1 - 0) = 2000\n",
    "\n",
    "\n",
    "\n",
    "For 3000\n",
    "\n",
    "x=3000\n",
    "\n",
    "x(min)=0\n",
    "\n",
    "x(max)=1\n",
    "\n",
    "So, x(normalized) i.e. 3000(normalized) = (3000 - 0)/(1 - 0) = 3000\n",
    "\n",
    "\n",
    "\n",
    "For 9000\n",
    "\n",
    "x=9000\n",
    "\n",
    "x(min)=0\n",
    "\n",
    "x(max)=1\n",
    "\n",
    "So, x(normalized) i.e. 9000(normalized) = (9000 - 0)/(1 - 0) = 9000\n",
    " \n",
    "\n"
   ]
  },
  {
   "cell_type": "markdown",
   "id": "d4f49851-ed8e-4941-a919-ec64b3ee243b",
   "metadata": {},
   "source": [
    "Q9: Provide a detailed explanation of the PCA technique for dimensionality reduction including its methology and application"
   ]
  },
  {
   "cell_type": "code",
   "execution_count": 319,
   "id": "3259fab6-42b6-4caa-a797-8c8b70e1009e",
   "metadata": {},
   "outputs": [],
   "source": [
    "import numpy as np\n",
    "import pandas as pd\n",
    "from sklearn.decomposition import PCA\n",
    "import matplotlib.pyplot as plt\n",
    "from numpy.linalg import eig"
   ]
  },
  {
   "cell_type": "code",
   "execution_count": 320,
   "id": "4c8b228b-ec85-4ba7-b8ba-d7c565bf7112",
   "metadata": {},
   "outputs": [
    {
     "data": {
      "text/html": [
       "<div>\n",
       "<style scoped>\n",
       "    .dataframe tbody tr th:only-of-type {\n",
       "        vertical-align: middle;\n",
       "    }\n",
       "\n",
       "    .dataframe tbody tr th {\n",
       "        vertical-align: top;\n",
       "    }\n",
       "\n",
       "    .dataframe thead th {\n",
       "        text-align: right;\n",
       "    }\n",
       "</style>\n",
       "<table border=\"1\" class=\"dataframe\">\n",
       "  <thead>\n",
       "    <tr style=\"text-align: right;\">\n",
       "      <th></th>\n",
       "      <th>x</th>\n",
       "      <th>y</th>\n",
       "    </tr>\n",
       "  </thead>\n",
       "  <tbody>\n",
       "    <tr>\n",
       "      <th>0</th>\n",
       "      <td>2.5</td>\n",
       "      <td>2.4</td>\n",
       "    </tr>\n",
       "    <tr>\n",
       "      <th>1</th>\n",
       "      <td>0.5</td>\n",
       "      <td>0.7</td>\n",
       "    </tr>\n",
       "    <tr>\n",
       "      <th>2</th>\n",
       "      <td>2.2</td>\n",
       "      <td>2.9</td>\n",
       "    </tr>\n",
       "    <tr>\n",
       "      <th>3</th>\n",
       "      <td>1.9</td>\n",
       "      <td>2.2</td>\n",
       "    </tr>\n",
       "    <tr>\n",
       "      <th>4</th>\n",
       "      <td>3.1</td>\n",
       "      <td>3.0</td>\n",
       "    </tr>\n",
       "    <tr>\n",
       "      <th>5</th>\n",
       "      <td>2.3</td>\n",
       "      <td>2.7</td>\n",
       "    </tr>\n",
       "    <tr>\n",
       "      <th>6</th>\n",
       "      <td>2.0</td>\n",
       "      <td>1.6</td>\n",
       "    </tr>\n",
       "    <tr>\n",
       "      <th>7</th>\n",
       "      <td>1.0</td>\n",
       "      <td>1.1</td>\n",
       "    </tr>\n",
       "    <tr>\n",
       "      <th>8</th>\n",
       "      <td>1.5</td>\n",
       "      <td>1.6</td>\n",
       "    </tr>\n",
       "    <tr>\n",
       "      <th>9</th>\n",
       "      <td>1.1</td>\n",
       "      <td>0.9</td>\n",
       "    </tr>\n",
       "  </tbody>\n",
       "</table>\n",
       "</div>"
      ],
      "text/plain": [
       "     x    y\n",
       "0  2.5  2.4\n",
       "1  0.5  0.7\n",
       "2  2.2  2.9\n",
       "3  1.9  2.2\n",
       "4  3.1  3.0\n",
       "5  2.3  2.7\n",
       "6  2.0  1.6\n",
       "7  1.0  1.1\n",
       "8  1.5  1.6\n",
       "9  1.1  0.9"
      ]
     },
     "execution_count": 320,
     "metadata": {},
     "output_type": "execute_result"
    }
   ],
   "source": [
    "#Step 1: Imported a data sheet\n",
    "data = pd.read_csv('rawdata.csv')\n",
    "data"
   ]
  },
  {
   "cell_type": "code",
   "execution_count": 321,
   "id": "acbf019d-9d0c-4f25-8219-6e3639ae3f62",
   "metadata": {},
   "outputs": [
    {
     "data": {
      "text/plain": [
       "Text(0, 0.5, 'y')"
      ]
     },
     "execution_count": 321,
     "metadata": {},
     "output_type": "execute_result"
    },
    {
     "data": {
      "image/png": "[encoded data removed]",
      "text/plain": [
       "<Figure size 640x480 with 1 Axes>"
      ]
     },
     "metadata": {},
     "output_type": "display_data"
    }
   ],
   "source": [
    "#ploted the actal given data\n",
    "plt.scatter(data[\"x\"],data[\"y\"])\n",
    "plt.xlabel('x')\n",
    "plt.ylabel('y')"
   ]
  },
  {
   "cell_type": "code",
   "execution_count": 322,
   "id": "76abed08-3723-417c-949d-90350c0a0145",
   "metadata": {},
   "outputs": [
    {
     "name": "stdout",
     "output_type": "stream",
     "text": [
      "x    1.81\n",
      "y    1.91\n",
      "dtype: float64\n"
     ]
    }
   ],
   "source": [
    "#finding(mean centric)\n",
    "mean = np.mean(data.T,axis=1)\n",
    "print(mean)"
   ]
  },
  {
   "cell_type": "code",
   "execution_count": 323,
   "id": "c3765c34-0bf2-4f4a-b36d-d30e758c3bc9",
   "metadata": {},
   "outputs": [
    {
     "name": "stdout",
     "output_type": "stream",
     "text": [
      "x    0.744916\n",
      "y    0.803057\n",
      "dtype: float64\n"
     ]
    }
   ],
   "source": [
    "#finding standard deviation\n",
    "std1 = np.std(data, axis=0)\n",
    "print(std1)\n",
    "\n"
   ]
  },
  {
   "cell_type": "code",
   "execution_count": 324,
   "id": "b42e8d16-693a-4f9c-acd1-0f9bd12d7181",
   "metadata": {},
   "outputs": [
    {
     "data": {
      "text/html": [
       "<div>\n",
       "<style scoped>\n",
       "    .dataframe tbody tr th:only-of-type {\n",
       "        vertical-align: middle;\n",
       "    }\n",
       "\n",
       "    .dataframe tbody tr th {\n",
       "        vertical-align: top;\n",
       "    }\n",
       "\n",
       "    .dataframe thead th {\n",
       "        text-align: right;\n",
       "    }\n",
       "</style>\n",
       "<table border=\"1\" class=\"dataframe\">\n",
       "  <thead>\n",
       "    <tr style=\"text-align: right;\">\n",
       "      <th></th>\n",
       "      <th>x</th>\n",
       "      <th>y</th>\n",
       "    </tr>\n",
       "  </thead>\n",
       "  <tbody>\n",
       "    <tr>\n",
       "      <th>0</th>\n",
       "      <td>0.69</td>\n",
       "      <td>0.49</td>\n",
       "    </tr>\n",
       "    <tr>\n",
       "      <th>1</th>\n",
       "      <td>-1.31</td>\n",
       "      <td>-1.21</td>\n",
       "    </tr>\n",
       "    <tr>\n",
       "      <th>2</th>\n",
       "      <td>0.39</td>\n",
       "      <td>0.99</td>\n",
       "    </tr>\n",
       "    <tr>\n",
       "      <th>3</th>\n",
       "      <td>0.09</td>\n",
       "      <td>0.29</td>\n",
       "    </tr>\n",
       "    <tr>\n",
       "      <th>4</th>\n",
       "      <td>1.29</td>\n",
       "      <td>1.09</td>\n",
       "    </tr>\n",
       "    <tr>\n",
       "      <th>5</th>\n",
       "      <td>0.49</td>\n",
       "      <td>0.79</td>\n",
       "    </tr>\n",
       "    <tr>\n",
       "      <th>6</th>\n",
       "      <td>0.19</td>\n",
       "      <td>-0.31</td>\n",
       "    </tr>\n",
       "    <tr>\n",
       "      <th>7</th>\n",
       "      <td>-0.81</td>\n",
       "      <td>-0.81</td>\n",
       "    </tr>\n",
       "    <tr>\n",
       "      <th>8</th>\n",
       "      <td>-0.31</td>\n",
       "      <td>-0.31</td>\n",
       "    </tr>\n",
       "    <tr>\n",
       "      <th>9</th>\n",
       "      <td>-0.71</td>\n",
       "      <td>-1.01</td>\n",
       "    </tr>\n",
       "  </tbody>\n",
       "</table>\n",
       "</div>"
      ],
      "text/plain": [
       "      x     y\n",
       "0  0.69  0.49\n",
       "1 -1.31 -1.21\n",
       "2  0.39  0.99\n",
       "3  0.09  0.29\n",
       "4  1.29  1.09\n",
       "5  0.49  0.79\n",
       "6  0.19 -0.31\n",
       "7 -0.81 -0.81\n",
       "8 -0.31 -0.31\n",
       "9 -0.71 -1.01"
      ]
     },
     "execution_count": 324,
     "metadata": {},
     "output_type": "execute_result"
    }
   ],
   "source": [
    "#step 2 i.e. Scaling data\n",
    "scale_data = (data - mean) \n",
    "scale_data"
   ]
  },
  {
   "cell_type": "code",
   "execution_count": 325,
   "id": "c8efdfdd-03e7-48ae-ae28-cf608dda3315",
   "metadata": {},
   "outputs": [
    {
     "name": "stdout",
     "output_type": "stream",
     "text": [
      "[[0.61655556 0.61544444]\n",
      " [0.61544444 0.71655556]]\n"
     ]
    }
   ],
   "source": [
    "#Step 3 i.e. finding covarience matrix\n",
    "cov_matrix=np.cov(scale_data.T)\n",
    "print(cov_matrix)"
   ]
  },
  {
   "cell_type": "code",
   "execution_count": 326,
   "id": "960ea240-2f0a-476e-a9f6-7a09dacc6636",
   "metadata": {},
   "outputs": [
    {
     "name": "stdout",
     "output_type": "stream",
     "text": [
      "eigen values are [0.0490834  1.28402771]\n",
      "eigen vector are\n",
      " [[-0.73517866 -0.6778734 ]\n",
      " [ 0.6778734  -0.73517866]]\n"
     ]
    }
   ],
   "source": [
    "#step 4 :finding eigen values and eigen vector\n",
    "Eval,Evec=eig(cov_matrix)\n",
    "print('eigen values are',Eval)\n",
    "print('eigen vector are\\n',Evec)"
   ]
  },
  {
   "cell_type": "code",
   "execution_count": 327,
   "id": "eead2fc2-f007-4d64-8b05-abcd0e519da5",
   "metadata": {},
   "outputs": [
    {
     "name": "stdout",
     "output_type": "stream",
     "text": [
      "[[-0.17511531 -0.82797019]\n",
      " [ 0.14285723  1.77758033]\n",
      " [ 0.38437499 -0.99219749]\n",
      " [ 0.13041721 -0.27421042]\n",
      " [-0.20949846 -1.67580142]\n",
      " [ 0.17528244 -0.9129491 ]\n",
      " [-0.3498247   0.09910944]\n",
      " [ 0.04641726  1.14457216]\n",
      " [ 0.01776463  0.43804614]\n",
      " [-0.16267529  1.22382056]]\n"
     ]
    }
   ],
   "source": [
    "#step 5: projecting data to new axis \n",
    "project_data= Evec.T.dot(scale_data.T)\n",
    "print(project_data.T)"
   ]
  },
  {
   "cell_type": "code",
   "execution_count": 328,
   "id": "d2d7c139-1a4a-4b7f-a703-e6b17f017d2c",
   "metadata": {},
   "outputs": [
    {
     "data": {
      "text/plain": [
       "array([[-0.82797019, -0.17511531],\n",
       "       [ 1.77758033,  0.14285723],\n",
       "       [-0.99219749,  0.38437499],\n",
       "       [-0.27421042,  0.13041721],\n",
       "       [-1.67580142, -0.20949846],\n",
       "       [-0.9129491 ,  0.17528244],\n",
       "       [ 0.09910944, -0.3498247 ],\n",
       "       [ 1.14457216,  0.04641726],\n",
       "       [ 0.43804614,  0.01776463],\n",
       "       [ 1.22382056, -0.16267529]])"
      ]
     },
     "execution_count": 328,
     "metadata": {},
     "output_type": "execute_result"
    }
   ],
   "source": [
    "pca=PCA(n_components=2)\n",
    "pca.fit_transform(data)"
   ]
  },
  {
   "cell_type": "code",
   "execution_count": 329,
   "id": "379d5360-73a4-46d4-9405-c78f3ffab95c",
   "metadata": {},
   "outputs": [
    {
     "data": {
      "text/plain": [
       "array([0.96318131, 0.03681869])"
      ]
     },
     "execution_count": 329,
     "metadata": {},
     "output_type": "execute_result"
    }
   ],
   "source": [
    "#variance ratio of each PCA i.e. which PCA gives more information\n",
    "pca.explained_variance_ratio_"
   ]
  },
  {
   "cell_type": "code",
   "execution_count": 330,
   "id": "bc1acbed-cd16-4d4c-837a-50b076c70596",
   "metadata": {},
   "outputs": [
    {
     "data": {
      "text/html": [
       "<div>\n",
       "<style scoped>\n",
       "    .dataframe tbody tr th:only-of-type {\n",
       "        vertical-align: middle;\n",
       "    }\n",
       "\n",
       "    .dataframe tbody tr th {\n",
       "        vertical-align: top;\n",
       "    }\n",
       "\n",
       "    .dataframe thead th {\n",
       "        text-align: right;\n",
       "    }\n",
       "</style>\n",
       "<table border=\"1\" class=\"dataframe\">\n",
       "  <thead>\n",
       "    <tr style=\"text-align: right;\">\n",
       "      <th></th>\n",
       "      <th>PCA1</th>\n",
       "      <th>PCA2</th>\n",
       "    </tr>\n",
       "  </thead>\n",
       "  <tbody>\n",
       "    <tr>\n",
       "      <th>0</th>\n",
       "      <td>-0.827970</td>\n",
       "      <td>-0.175115</td>\n",
       "    </tr>\n",
       "    <tr>\n",
       "      <th>1</th>\n",
       "      <td>1.777580</td>\n",
       "      <td>0.142857</td>\n",
       "    </tr>\n",
       "    <tr>\n",
       "      <th>2</th>\n",
       "      <td>-0.992197</td>\n",
       "      <td>0.384375</td>\n",
       "    </tr>\n",
       "    <tr>\n",
       "      <th>3</th>\n",
       "      <td>-0.274210</td>\n",
       "      <td>0.130417</td>\n",
       "    </tr>\n",
       "    <tr>\n",
       "      <th>4</th>\n",
       "      <td>-1.675801</td>\n",
       "      <td>-0.209498</td>\n",
       "    </tr>\n",
       "    <tr>\n",
       "      <th>5</th>\n",
       "      <td>-0.912949</td>\n",
       "      <td>0.175282</td>\n",
       "    </tr>\n",
       "    <tr>\n",
       "      <th>6</th>\n",
       "      <td>0.099109</td>\n",
       "      <td>-0.349825</td>\n",
       "    </tr>\n",
       "    <tr>\n",
       "      <th>7</th>\n",
       "      <td>1.144572</td>\n",
       "      <td>0.046417</td>\n",
       "    </tr>\n",
       "    <tr>\n",
       "      <th>8</th>\n",
       "      <td>0.438046</td>\n",
       "      <td>0.017765</td>\n",
       "    </tr>\n",
       "    <tr>\n",
       "      <th>9</th>\n",
       "      <td>1.223821</td>\n",
       "      <td>-0.162675</td>\n",
       "    </tr>\n",
       "  </tbody>\n",
       "</table>\n",
       "</div>"
      ],
      "text/plain": [
       "       PCA1      PCA2\n",
       "0 -0.827970 -0.175115\n",
       "1  1.777580  0.142857\n",
       "2 -0.992197  0.384375\n",
       "3 -0.274210  0.130417\n",
       "4 -1.675801 -0.209498\n",
       "5 -0.912949  0.175282\n",
       "6  0.099109 -0.349825\n",
       "7  1.144572  0.046417\n",
       "8  0.438046  0.017765\n",
       "9  1.223821 -0.162675"
      ]
     },
     "execution_count": 330,
     "metadata": {},
     "output_type": "execute_result"
    }
   ],
   "source": [
    "PCDF=pd.DataFrame(data=pca.fit_transform(data),columns=['PCA1','PCA2'])\n",
    "PCDF"
   ]
  },
  {
   "cell_type": "code",
   "execution_count": 331,
   "id": "04fda9da-60a6-4ff6-a014-d5d40c396fb1",
   "metadata": {},
   "outputs": [
    {
     "data": {
      "text/plain": [
       "Text(0.5, 1.0, 'PCA: Reduced-dimensional Space')"
      ]
     },
     "execution_count": 331,
     "metadata": {},
     "output_type": "execute_result"
    },
    {
     "data": {
      "image/png": "[encoded data removed]",
      "text/plain": [
       "<Figure size 640x480 with 1 Axes>"
      ]
     },
     "metadata": {},
     "output_type": "display_data"
    }
   ],
   "source": [
    "#ploting pca data \n",
    "plt.scatter(PCDF['PCA1'],PCDF['PCA2'])\n",
    "plt.xlabel('Principal Component 1')\n",
    "plt.ylabel('Principal Component 2')\n",
    "plt.title('PCA: Reduced-dimensional Space')"
   ]
  },
  {
   "cell_type": "code",
   "execution_count": 332,
   "id": "1f3ecc44-9614-4440-80e2-7ad132f0bf12",
   "metadata": {},
   "outputs": [
    {
     "data": {
      "text/html": [
       "<div>\n",
       "<style scoped>\n",
       "    .dataframe tbody tr th:only-of-type {\n",
       "        vertical-align: middle;\n",
       "    }\n",
       "\n",
       "    .dataframe tbody tr th {\n",
       "        vertical-align: top;\n",
       "    }\n",
       "\n",
       "    .dataframe thead th {\n",
       "        text-align: right;\n",
       "    }\n",
       "</style>\n",
       "<table border=\"1\" class=\"dataframe\">\n",
       "  <thead>\n",
       "    <tr style=\"text-align: right;\">\n",
       "      <th></th>\n",
       "      <th>PCA1</th>\n",
       "      <th>PCA2</th>\n",
       "    </tr>\n",
       "  </thead>\n",
       "  <tbody>\n",
       "    <tr>\n",
       "      <th>x</th>\n",
       "      <td>-0.677873</td>\n",
       "      <td>-0.735179</td>\n",
       "    </tr>\n",
       "    <tr>\n",
       "      <th>y</th>\n",
       "      <td>-0.735179</td>\n",
       "      <td>0.677873</td>\n",
       "    </tr>\n",
       "  </tbody>\n",
       "</table>\n",
       "</div>"
      ],
      "text/plain": [
       "       PCA1      PCA2\n",
       "x -0.677873 -0.735179\n",
       "y -0.735179  0.677873"
      ]
     },
     "execution_count": 332,
     "metadata": {},
     "output_type": "execute_result"
    }
   ],
   "source": [
    "#now lets see how much weight each variable has in principal components\n",
    "loadings = pd.DataFrame(pca.components_.T,columns=['PCA1','PCA2'],index=[\"x\",\"y\"])\n",
    "loadings"
   ]
  },
  {
   "cell_type": "markdown",
   "id": "45577658-ff86-414f-944e-a7271e09900c",
   "metadata": {},
   "source": [
    "Applications : Principal Component Analysis (PCA) is a dimensionality reduction technique commonly used in machine learning and data analysis. It's often applied to reduce the number of features in a dataset while retaining its essential information. Here are some practical examples of PCA:\n",
    "\n",
    "1: Image Compression:\n",
    "PCA can be applied to reduce the dimensionality of image data while retaining most of its important features. This is useful in image compression to save storage space or bandwidth.\n",
    "\n",
    "2: Face Recognition:\n",
    "In facial recognition systems, PCA can be used to reduce the dimensionality of facial features. This helps in focusing on the most important components for distinguishing faces, leading to more efficient and accurate recognition algorithms.\n",
    "\n",
    "3: Speech Recognition:\n",
    "PCA can be applied to reduce the dimensionality of speech signals. This can improve the efficiency of speech recognition algorithms by focusing on the most relevant features for distinguishing different phonemes and words.\n",
    "\n",
    "4: Quality Control in Manufacturing:\n",
    "PCA can be applied to analyze data from manufacturing processes to identify the most important factors contributing to product quality. This can help streamline production processes and improve overall product quality.\n",
    "\n",
    "5: Climate Science:\n",
    "PCA can be used to analyze climate data, such as temperature and precipitation patterns. It helps identify the principal components of variability in climate data, aiding in understanding and modeling climate phenomena."
   ]
  },
  {
   "cell_type": "markdown",
   "id": "6041a548-4f9d-45ac-941d-48700daaf2a4",
   "metadata": {},
   "source": [
    "Q10: a)Write a python programme illustrating box plot. Explain how box plot aid in understanding outliers in data\n",
    "\n",
    "b) Why is the normal distribution important in statistic, and how can it be visualized with a diagram? Define skewness and describe the characteristics of left and right skewed distributions"
   ]
  },
  {
   "cell_type": "code",
   "execution_count": 333,
   "id": "7523346e-0398-42cf-b58d-0b05fa602b35",
   "metadata": {},
   "outputs": [
    {
     "data": {
      "text/plain": [
       "Text(0.5, 0, 'Data')"
      ]
     },
     "execution_count": 333,
     "metadata": {},
     "output_type": "execute_result"
    },
    {
     "data": {
      "image/png": "[encoded data removed]",
      "text/plain": [
       "<Figure size 640x480 with 1 Axes>"
      ]
     },
     "metadata": {},
     "output_type": "display_data"
    }
   ],
   "source": [
    "#a) creating a box plot \n",
    "d = [10, 20, 25, 30, 35, 40, 45, 50, 55, 60, 70, 80, 100, 200]\n",
    "# Creating a box plot\n",
    "sns.boxplot(x=d) #for x axis \n",
    "plt.title(\"Box Plot\")\n",
    "plt.xlabel(\"Data\")"
   ]
  },
  {
   "cell_type": "markdown",
   "id": "36442e7d-b040-4cb9-9681-ea06706edd3d",
   "metadata": {},
   "source": [
    "Box plots provide a visual summary of the distribution of the data and help in identifying outliers.\n",
    "In a box plot, the central rectangle represents the interquartile range (IQR) of the data, with the median value marked as a line inside the rectangle.\n",
    "The \"whiskers\" extending from the box indicate variability outside the upper and lower quartiles, and any points beyond the whiskers are considered outliers.\n",
    "Outliers are identified as individual data points that fall outside the \"whiskers\" of the box plot.\n",
    "By visualizing the distribution of data using a box plot, it becomes easier to identify extreme values that may be erroneous or unusual compared to the rest of the data.\n",
    "Box plots provide a clear and concise summary of the data's central tendency, spread, and presence of outliers, making them valuable tools for exploratory data analysis and outlier detection."
   ]
  },
  {
   "cell_type": "code",
   "execution_count": null,
   "id": "61db3320-bb28-42a4-ac56-3c193196a35f",
   "metadata": {},
   "outputs": [],
   "source": [
    "\n"
   ]
  },
  {
   "cell_type": "markdown",
   "id": "43c5b63c-b7a1-439a-9df5-ac36383e0915",
   "metadata": {},
   "source": [
    "b) The normal distribution, also known as the Gaussian distribution or bell curve, is one of the most important concepts in statistics for several reasons:\n",
    "\n",
    "Common Occurrence in Nature: Many natural phenomena follow a normal distribution. Examples include the heights of individuals in a population, IQ scores, measurement errors, and many more. Understanding the normal distribution allows statisticians to model and analyze various real-world processes accurately.\n",
    "\n",
    "Central Limit Theorem: The normal distribution plays a crucial role in the Central Limit Theorem, which states that the distribution of the sample means approaches a normal distribution as the sample size increases, regardless of the shape of the population distribution. This theorem is fundamental in inferential statistics and hypothesis testing.\n",
    "\n",
    "Statistical Inference: Many statistical methods, such as hypothesis testing, confidence intervals, and regression analysis, rely on assumptions of normality. When data approximate a normal distribution, these methods tend to be more reliable and powerful.\n",
    "\n",
    "Simplicity and Symmetry: The normal distribution is characterized by its simplicity and symmetry, making it mathematically tractable and easier to work with than other distributions."
   ]
  },
  {
   "cell_type": "code",
   "execution_count": 334,
   "id": "a70cd8d6-a9aa-4d2e-bf43-22cb6da7a4c0",
   "metadata": {},
   "outputs": [
    {
     "data": {
      "image/png": "[encoded data removed]",
      "text/plain": [
       "<Figure size 640x480 with 1 Axes>"
      ]
     },
     "metadata": {},
     "output_type": "display_data"
    }
   ],
   "source": [
    "# Generate random data following a normal distribution\n",
    "data = np.random.normal(loc=0, scale=1, size=1000)\n",
    "\n",
    "# Plot a histogram\n",
    "plt.hist(data, bins=30, density=True, color='skyblue', edgecolor='black')\n",
    "\n",
    "# Plot the probability density function (PDF)\n",
    "xmin, xmax = plt.xlim()\n",
    "x = np.linspace(xmin, xmax, 100)\n",
    "p = stats.norm.pdf(x, 0, 1)\n",
    "plt.plot(x, p, 'k', linewidth=2)\n",
    "\n",
    "plt.title('Normal Distribution')\n",
    "plt.xlabel('Value')\n",
    "plt.ylabel('Density')\n",
    "plt.show()"
   ]
  },
  {
   "cell_type": "markdown",
   "id": "c56d1557-f16d-402f-a802-a7a1e78bb761",
   "metadata": {},
   "source": [
    "Skewness:\n",
    "Skewness measures the asymmetry of the probability distribution of a real-valued random variable. It indicates whether the data is concentrated more on one side of the mean than the other.\n",
    "\n",
    "Negative Skewness (Left Skew): The distribution has a longer left tail and is skewed towards the lower end of the range. The mean is less than the median, and the mode is greater than the median.\n",
    "\n",
    "Positive Skewness (Right Skew): The distribution has a longer right tail and is skewed towards the higher end of the range. The mean is greater than the median, and the mode is less than the median.\n",
    "\n",
    "Characteristics of Left and Right Skewed Distributions:\n",
    "\n",
    "Left Skewed Distribution:\n",
    "Also known as negatively skewed distribution.\n",
    "The mean is less than the median.\n",
    "The tail of the distribution extends towards the left.\n",
    "The bulk of the data points are concentrated on the right side of the distribution.\n",
    "In a left skewed distribution, outliers tend to be on the left side of the histogram.\n",
    "\n",
    "Right Skewed Distribution:\n",
    "Also known as positively skewed distribution.\n",
    "The mean is greater than the median.\n",
    "The tail of the distribution extends towards the right.\n",
    "The bulk of the data points are concentrated on the left side of the distribution.\n",
    "In a right skewed distribution, outliers tend to be on the right side of the histogram."
   ]
  },
  {
   "cell_type": "markdown",
   "id": "41d074df-3555-41ce-8a54-b9c3c7f0c48e",
   "metadata": {},
   "source": [
    "Q12: Explain the concept of hypothesis testing in statistical analysis ? Define the p-value in the context of hypothesis testing and explain its significance"
   ]
  },
  {
   "cell_type": "markdown",
   "id": "f5fbd30d-5194-494a-91b8-afc9d50c73e6",
   "metadata": {},
   "source": [
    "Hypothesis testing is a fundamental concept in statistical analysis used to make decisions or inferences about a population based on sample data. It involves testing a hypothesis or claim about a population parameter, such as a population mean or proportion, using sample data.\n",
    "\n",
    "The general process of hypothesis testing involves the following steps:\n",
    "\n",
    "1)Formulate Hypotheses:\n",
    "\n",
    "Null Hypothesis (\n",
    "H\n",
    "0\n",
    "H \n",
    "0\n",
    "​\t\n",
    " ): Represents the status quo or the hypothesis to be tested. It often states that there is no effect, no difference, or no association in the population.\n",
    " \n",
    "Alternative Hypothesis (\n",
    "H\n",
    "1\n",
    "H \n",
    "1\n",
    "​\t\n",
    "  or \n",
    "H\n",
    "a\n",
    "H \n",
    "a\n",
    "​\t\n",
    " ): Represents the opposite of the null hypothesis. It typically states that there is an effect, difference, or association in the population.\n",
    " \n",
    "2)Choose a Significance Level (\n",
    "α\n",
    "α):\n",
    "\n",
    "The significance level, often denoted by \n",
    "α\n",
    "α, represents the probability of rejecting the null hypothesis when it is actually true. Commonly used values for \n",
    "α\n",
    "α are 0.05 (5%) and 0.01 (1%).\n",
    "\n",
    "3)Select a Test Statistic and Distribution:\n",
    "\n",
    "Choose an appropriate test statistic based on the hypothesis being tested and the type of data.\n",
    "Determine the appropriate sampling distribution (e.g., normal distribution, t-distribution) for the test statistic.\n",
    "\n",
    "4)Collect Data and Calculate the Test Statistic:\n",
    "\n",
    "Collect sample data and calculate the value of the test statistic using the sample data.\n",
    "\n",
    "5)Make a Decision:\n",
    "\n",
    "Compare the calculated test statistic to the critical value(s) from the appropriate distribution.\n",
    "If the calculated test statistic falls in the rejection region (i.e., beyond the critical value(s)), reject the null hypothesis in favor of the alternative hypothesis. Otherwise, fail to reject the null hypothesis.\n",
    "\n",
    "6)Interpret the Results:\n",
    "\n",
    "Based on the decision made in the previous step, draw conclusions about the population parameter being tested.\n",
    "\n",
    "The p-value is a key concept in hypothesis testing and represents the probability of obtaining the observed results (or more extreme results) if the null hypothesis is true. In other words, it quantifies the strength of the evidence against the null hypothesis. Here's how it works:\n",
    "\n",
    "**If the p-value is less than or equal to the significance level (α), typically denoted as \n",
    "p\n",
    "≤\n",
    "α\n",
    "p≤α, then we reject the null hypothesis. This suggests that the observed results are statistically significant, and we have sufficient evidence to support the alternative hypothesis.\n",
    "\n",
    "**If the p-value is greater than the significance level (p>α), then we fail to reject the null hypothesis. This indicates that the observed results are not statistically significant, and we do not have sufficient evidence to reject the null hypothesis."
   ]
  },
  {
   "cell_type": "code",
   "execution_count": null,
   "id": "b01e5e7e-cf5b-40c5-a910-763a256e78c4",
   "metadata": {},
   "outputs": [],
   "source": []
  }
 ],
 "metadata": {
  "kernelspec": {
   "display_name": "Python 3 (ipykernel)",
   "language": "python",
   "name": "python3"
  },
  "language_info": {
   "codemirror_mode": {
    "name": "ipython",
    "version": 3
   },
   "file_extension": ".py",
   "mimetype": "text/x-python",
   "name": "python",
   "nbconvert_exporter": "python",
   "pygments_lexer": "ipython3",
   "version": "3.11.7"
  }
 },
 "nbformat": 4,
 "nbformat_minor": 5
}
