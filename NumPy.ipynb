{
 "cells": [
  {
   "cell_type": "code",
   "execution_count": 2,
   "id": "9c015c91",
   "metadata": {},
   "outputs": [
    {
     "name": "stdout",
     "output_type": "stream",
     "text": [
      "[1 2 3 4 5]\n",
      "<class 'numpy.ndarray'>\n"
     ]
    }
   ],
   "source": [
    "import numpy as np\n",
    "x=np.array([1,2,3,4,5])\n",
    "print(x)\n",
    "print(type(x))"
   ]
  },
  {
   "cell_type": "code",
   "execution_count": 20,
   "id": "727f6d6f",
   "metadata": {},
   "outputs": [
    {
     "name": "stdout",
     "output_type": "stream",
     "text": [
      "293 ns ± 2.73 ns per loop (mean ± std. dev. of 7 runs, 1,000,000 loops each)\n"
     ]
    }
   ],
   "source": [
    "%timeit [j**2 for j in range(1,9)]"
   ]
  },
  {
   "cell_type": "code",
   "execution_count": 21,
   "id": "00af2cfd",
   "metadata": {},
   "outputs": [
    {
     "name": "stdout",
     "output_type": "stream",
     "text": [
      "795 ns ± 9.22 ns per loop (mean ± std. dev. of 7 runs, 1,000,000 loops each)\n"
     ]
    }
   ],
   "source": [
    "import numpy as np\n",
    "%timeit np.arange(1,9)**4"
   ]
  },
  {
   "cell_type": "markdown",
   "id": "1944f25c",
   "metadata": {},
   "source": [
    "# Linespace"
   ]
  },
  {
   "cell_type": "markdown",
   "id": "616b0864",
   "metadata": {},
   "source": [
    "WAP to find the linspace."
   ]
  },
  {
   "cell_type": "code",
   "execution_count": 3,
   "id": "7542b55e",
   "metadata": {},
   "outputs": [
    {
     "name": "stdout",
     "output_type": "stream",
     "text": [
      "[2.         2.33333333 2.66666667 3.         3.33333333 3.66666667\n",
      " 4.         4.33333333 4.66666667 5.        ]\n"
     ]
    }
   ],
   "source": [
    "a=np.linspace(1,5,num=10)\n",
    "print(a)"
   ]
  },
  {
   "cell_type": "markdown",
   "id": "0a59ab64",
   "metadata": {},
   "source": [
    "# Arange function"
   ]
  },
  {
   "cell_type": "code",
   "execution_count": 5,
   "id": "d0d234f7",
   "metadata": {},
   "outputs": [
    {
     "name": "stdout",
     "output_type": "stream",
     "text": [
      "[-1  1  3  5  7  9]\n"
     ]
    }
   ],
   "source": [
    "x=np.arange(-1,10,2)\n",
    "print(x)"
   ]
  },
  {
   "cell_type": "markdown",
   "id": "28824d7f",
   "metadata": {},
   "source": [
    "# NUMPY.ONES"
   ]
  },
  {
   "cell_type": "code",
   "execution_count": 6,
   "id": "e4fa30ee",
   "metadata": {},
   "outputs": [
    {
     "name": "stdout",
     "output_type": "stream",
     "text": [
      "[[1. 1. 1. 1.]\n",
      " [1. 1. 1. 1.]\n",
      " [1. 1. 1. 1.]]\n"
     ]
    }
   ],
   "source": [
    "x=np.ones((3,4))\n",
    "print(x)"
   ]
  },
  {
   "cell_type": "markdown",
   "id": "548fdb21",
   "metadata": {},
   "source": [
    "# NUMPY.ZEROS"
   ]
  },
  {
   "cell_type": "code",
   "execution_count": 7,
   "id": "1eeb3a5d",
   "metadata": {},
   "outputs": [
    {
     "name": "stdout",
     "output_type": "stream",
     "text": [
      "[[0. 0. 0. 0.]\n",
      " [0. 0. 0. 0.]\n",
      " [0. 0. 0. 0.]]\n"
     ]
    }
   ],
   "source": [
    "x=np.zeros((3,4))\n",
    "print(x)"
   ]
  },
  {
   "cell_type": "markdown",
   "id": "242a1225",
   "metadata": {},
   "source": [
    "# Using RANDOM Function"
   ]
  },
  {
   "cell_type": "code",
   "execution_count": 8,
   "id": "4d4f58d2",
   "metadata": {},
   "outputs": [
    {
     "name": "stdout",
     "output_type": "stream",
     "text": [
      "[[0.00123837 0.03538461]\n",
      " [0.24714979 0.78421435]\n",
      " [0.24435569 0.28837296]\n",
      " [0.61091699 0.1048139 ]\n",
      " [0.04139931 0.06954637]]\n"
     ]
    }
   ],
   "source": [
    "x=np.random.rand(5,2)\n",
    "print(x)"
   ]
  },
  {
   "cell_type": "markdown",
   "id": "d9a03079",
   "metadata": {},
   "source": [
    "# Array Operations"
   ]
  },
  {
   "cell_type": "markdown",
   "id": "3f16244a",
   "metadata": {},
   "source": [
    "WAP to find the dimension of array."
   ]
  },
  {
   "cell_type": "code",
   "execution_count": 9,
   "id": "1fed8cb1",
   "metadata": {},
   "outputs": [
    {
     "name": "stdout",
     "output_type": "stream",
     "text": [
      "(3, 3)\n"
     ]
    }
   ],
   "source": [
    "x=np.array([[1,2,3],[2,3,8],[6,7,8]])\n",
    "print(x.shape)"
   ]
  },
  {
   "cell_type": "markdown",
   "id": "ca69bebf",
   "metadata": {},
   "source": [
    "# Addition of array"
   ]
  },
  {
   "cell_type": "markdown",
   "id": "5b7da165",
   "metadata": {},
   "source": [
    "WAP to find the addition of array (column wise)."
   ]
  },
  {
   "cell_type": "code",
   "execution_count": 5,
   "id": "8e0c0059",
   "metadata": {},
   "outputs": [
    {
     "name": "stdout",
     "output_type": "stream",
     "text": [
      "[[1 2 3]\n",
      " [2 3 8]\n",
      " [6 7 8]]\n"
     ]
    },
    {
     "data": {
      "text/plain": [
       "array([ 9, 12, 19])"
      ]
     },
     "execution_count": 5,
     "metadata": {},
     "output_type": "execute_result"
    }
   ],
   "source": [
    "x=np.array([[1,2,3],[2,3,8],[6,7,8]])\n",
    "print(x)\n",
    "np.sum(x,axis=0) #column wise addition"
   ]
  },
  {
   "cell_type": "markdown",
   "id": "9b29101c",
   "metadata": {},
   "source": [
    "WAP to find the addition of the array(row wise)."
   ]
  },
  {
   "cell_type": "code",
   "execution_count": 6,
   "id": "3e1c15c0",
   "metadata": {},
   "outputs": [
    {
     "data": {
      "text/plain": [
       "array([ 6, 15, 24])"
      ]
     },
     "execution_count": 6,
     "metadata": {},
     "output_type": "execute_result"
    }
   ],
   "source": [
    "x=np.array([[1,2,3],[4,5,6],[7,8,9]])\n",
    "np.sum(x,axis=1) #row wise addition"
   ]
  },
  {
   "cell_type": "markdown",
   "id": "d1871b8c",
   "metadata": {},
   "source": [
    "WAP to find the addition of two array."
   ]
  },
  {
   "cell_type": "code",
   "execution_count": 12,
   "id": "821ba656",
   "metadata": {},
   "outputs": [
    {
     "name": "stdout",
     "output_type": "stream",
     "text": [
      "first array\n",
      "[[1 2 3]\n",
      " [2 3 8]\n",
      " [6 7 8]]\n",
      "second array\n",
      "[[1 2 4]\n",
      " [2 3 9]\n",
      " [6 7 8]]\n",
      "Addition of two array\n"
     ]
    },
    {
     "data": {
      "text/plain": [
       "array([[ 2,  4,  7],\n",
       "       [ 4,  6, 17],\n",
       "       [12, 14, 16]])"
      ]
     },
     "execution_count": 12,
     "metadata": {},
     "output_type": "execute_result"
    }
   ],
   "source": [
    "#addition of two array\n",
    "x=np.array([[1,2,3],[2,3,8],[6,7,8]])\n",
    "y=np.array([[1,2,4],[2,3,9],[6,7,8]])\n",
    "print(\"first array\")\n",
    "print(x)\n",
    "print(\"second array\")\n",
    "print(y)\n",
    "print(\"Addition of two array\")\n",
    "np.add(x,y)"
   ]
  },
  {
   "cell_type": "markdown",
   "id": "789b5552",
   "metadata": {},
   "source": [
    "WAP to find the subtraction of two array."
   ]
  },
  {
   "cell_type": "code",
   "execution_count": 13,
   "id": "38459ea0",
   "metadata": {},
   "outputs": [
    {
     "name": "stdout",
     "output_type": "stream",
     "text": [
      "first array\n",
      "[[1 2 3]\n",
      " [2 3 8]\n",
      " [6 7 8]]\n",
      "second array\n",
      "[[1 2 4]\n",
      " [2 3 9]\n",
      " [6 7 8]]\n",
      "resulting array\n"
     ]
    },
    {
     "data": {
      "text/plain": [
       "array([[ 0,  0, -1],\n",
       "       [ 0,  0, -1],\n",
       "       [ 0,  0,  0]])"
      ]
     },
     "execution_count": 13,
     "metadata": {},
     "output_type": "execute_result"
    }
   ],
   "source": [
    "x=np.array([[1,2,3],[2,3,8],[6,7,8]])\n",
    "y=np.array([[1,2,4],[2,3,9],[6,7,8]])\n",
    "print(\"first array\")\n",
    "print(x)\n",
    "print(\"second array\")\n",
    "print(y)\n",
    "print(\"resulting array\")\n",
    "np.subtract(x,y)"
   ]
  },
  {
   "cell_type": "markdown",
   "id": "4b29de25",
   "metadata": {},
   "source": [
    "WAP to find the multiplication of two array."
   ]
  },
  {
   "cell_type": "code",
   "execution_count": 14,
   "id": "660e2c36",
   "metadata": {},
   "outputs": [
    {
     "name": "stdout",
     "output_type": "stream",
     "text": [
      "first array\n",
      "[[1 2 3]\n",
      " [2 3 8]\n",
      " [6 7 8]]\n",
      "second array\n",
      "[[1 2 4]\n",
      " [2 3 9]\n",
      " [6 7 8]]\n",
      "Multiplication of two array\n"
     ]
    },
    {
     "data": {
      "text/plain": [
       "array([[ 1,  4, 12],\n",
       "       [ 4,  9, 72],\n",
       "       [36, 49, 64]])"
      ]
     },
     "execution_count": 14,
     "metadata": {},
     "output_type": "execute_result"
    }
   ],
   "source": [
    "x=np.array([[1,2,3],[2,3,8],[6,7,8]])\n",
    "y=np.array([[1,2,4],[2,3,9],[6,7,8]])\n",
    "print(\"first array\")\n",
    "print(x)\n",
    "print(\"second array\")\n",
    "print(y)\n",
    "print(\"Multiplication of two array\")\n",
    "np.multiply(x,y)"
   ]
  },
  {
   "cell_type": "markdown",
   "id": "c803834e",
   "metadata": {},
   "source": [
    "WAP to find the division of two array."
   ]
  },
  {
   "cell_type": "code",
   "execution_count": 15,
   "id": "de0bd873",
   "metadata": {},
   "outputs": [
    {
     "name": "stdout",
     "output_type": "stream",
     "text": [
      "first array\n",
      "[[1 2 3]\n",
      " [2 3 8]\n",
      " [6 7 8]]\n",
      "second array\n",
      "[[1 2 4]\n",
      " [2 3 9]\n",
      " [6 7 8]]\n",
      "division of two array\n"
     ]
    },
    {
     "data": {
      "text/plain": [
       "array([[1.        , 1.        , 0.75      ],\n",
       "       [1.        , 1.        , 0.88888889],\n",
       "       [1.        , 1.        , 1.        ]])"
      ]
     },
     "execution_count": 15,
     "metadata": {},
     "output_type": "execute_result"
    }
   ],
   "source": [
    "x=np.array([[1,2,3],[2,3,8],[6,7,8]])\n",
    "y=np.array([[1,2,4],[2,3,9],[6,7,8]])\n",
    "print(\"first array\")\n",
    "print(x)\n",
    "print(\"second array\")\n",
    "print(y)\n",
    "print(\"division of two array\")\n",
    "np.divide(x,y)"
   ]
  },
  {
   "cell_type": "markdown",
   "id": "a272faa1",
   "metadata": {},
   "source": [
    "WAP to find the transpose of two array."
   ]
  },
  {
   "cell_type": "code",
   "execution_count": 16,
   "id": "da9e890e",
   "metadata": {},
   "outputs": [
    {
     "data": {
      "text/plain": [
       "array([[1, 2, 6],\n",
       "       [2, 3, 7],\n",
       "       [3, 8, 8]])"
      ]
     },
     "execution_count": 16,
     "metadata": {},
     "output_type": "execute_result"
    }
   ],
   "source": [
    "x=np.array([[1,2,3],[2,3,8],[6,7,8]])\n",
    "np.transpose(x)"
   ]
  },
  {
   "cell_type": "markdown",
   "id": "c1b20963",
   "metadata": {},
   "source": [
    "WAP to insert a row in a array."
   ]
  },
  {
   "cell_type": "code",
   "execution_count": 9,
   "id": "2c80ba35",
   "metadata": {},
   "outputs": [
    {
     "name": "stdout",
     "output_type": "stream",
     "text": [
      "[[1 2 3]\n",
      " [2 3 8]\n",
      " [6 7 8]\n",
      " [3 5 7]]\n"
     ]
    }
   ],
   "source": [
    "x=np.array([[1,2,3],[2,3,8],[6,7,8]])\n",
    "y=np.append(x,[[3,5,7]],axis=0)\n",
    "print(y)"
   ]
  },
  {
   "cell_type": "markdown",
   "id": "2c337d8d",
   "metadata": {},
   "source": [
    "WAP to insert an element in an array at the particular index."
   ]
  },
  {
   "cell_type": "code",
   "execution_count": 10,
   "id": "dd085681",
   "metadata": {},
   "outputs": [
    {
     "name": "stdout",
     "output_type": "stream",
     "text": [
      "[[1 2 3]\n",
      " [6 7 8]\n",
      " [2 3 8]\n",
      " [6 7 8]]\n"
     ]
    }
   ],
   "source": [
    "x=np.array([[1,2,3],[2,3,8],[6,7,8]])\n",
    "y=np.insert(x,1,[6,7,8],axis=0)\n",
    "print(y)"
   ]
  },
  {
   "cell_type": "markdown",
   "id": "3614cf45",
   "metadata": {},
   "source": [
    "WAP to delete an element in an array at the particular index."
   ]
  },
  {
   "cell_type": "code",
   "execution_count": 19,
   "id": "fb2d6b3a",
   "metadata": {},
   "outputs": [
    {
     "name": "stdout",
     "output_type": "stream",
     "text": [
      "[[1 2 3]\n",
      " [2 3 8]\n",
      " [6 7 8]]\n",
      "deleted array at particular index\n",
      "[[1 2 3]\n",
      " [2 3 8]]\n"
     ]
    }
   ],
   "source": [
    "x=np.array([[1,2,3],[2,3,8],[6,7,8]])\n",
    "print(x)\n",
    "print(\"deleted array at particular index\")\n",
    "y=np.delete(x,2,axis=0)\n",
    "print(y)"
   ]
  },
  {
   "cell_type": "markdown",
   "id": "25886546",
   "metadata": {},
   "source": [
    "WAP to perform the multiplication of different dimension in an array"
   ]
  },
  {
   "cell_type": "code",
   "execution_count": 20,
   "id": "56ce165c",
   "metadata": {},
   "outputs": [
    {
     "name": "stdout",
     "output_type": "stream",
     "text": [
      "[[1 2 3]\n",
      " [2 3 8]\n",
      " [6 7 8]]\n",
      "[[1 2 3 7]\n",
      " [2 3 8 5]\n",
      " [6 7 8 9]]\n"
     ]
    },
    {
     "ename": "ValueError",
     "evalue": "operands could not be broadcast together with shapes (3,3) (3,4) ",
     "output_type": "error",
     "traceback": [
      "\u001b[0;31m---------------------------------------------------------------------------\u001b[0m",
      "\u001b[0;31mValueError\u001b[0m                                Traceback (most recent call last)",
      "Cell \u001b[0;32mIn[20], line 5\u001b[0m\n\u001b[1;32m      3\u001b[0m \u001b[38;5;28mprint\u001b[39m(x)\n\u001b[1;32m      4\u001b[0m \u001b[38;5;28mprint\u001b[39m(y)\n\u001b[0;32m----> 5\u001b[0m np\u001b[38;5;241m.\u001b[39mmultiply(x,y)\n",
      "\u001b[0;31mValueError\u001b[0m: operands could not be broadcast together with shapes (3,3) (3,4) "
     ]
    }
   ],
   "source": [
    "x=np.array([[1,2,3],[2,3,8],[6,7,8]])\n",
    "y=np.array([[1,2,3,7],[2,3,8,5],[6,7,8,9]])\n",
    "print(x)\n",
    "print(y)\n",
    "np.multiply(x,y)"
   ]
  },
  {
   "cell_type": "markdown",
   "id": "b022be9c",
   "metadata": {},
   "source": [
    "WAP to perform the remainder between two array."
   ]
  },
  {
   "cell_type": "code",
   "execution_count": 15,
   "id": "bc63e561",
   "metadata": {},
   "outputs": [
    {
     "name": "stdout",
     "output_type": "stream",
     "text": [
      "First array is:\n",
      " [[1 2 3]\n",
      " [2 3 8]\n",
      " [6 7 8]]\n",
      "Second array is:\n",
      " [[1 2 8]\n",
      " [8 3 8]\n",
      " [9 7 8]]\n",
      "[[0 0 3]\n",
      " [2 0 0]\n",
      " [6 0 0]]\n"
     ]
    }
   ],
   "source": [
    "x=np.array([[1,2,3],[2,3,8],[6,7,8]])\n",
    "print('First array is:\\n',x)\n",
    "print('Second array is:\\n',y)\n",
    "t=np.array([[1,2,8],[8,3,8],[9,7,8]])\n",
    "z=np.remainder(x,t)\n",
    "print(z)"
   ]
  },
  {
   "cell_type": "code",
   "execution_count": null,
   "id": "173ad866",
   "metadata": {},
   "outputs": [],
   "source": []
  }
 ],
 "metadata": {
  "kernelspec": {
   "display_name": "Python 3 (ipykernel)",
   "language": "python",
   "name": "python3"
  },
  "language_info": {
   "codemirror_mode": {
    "name": "ipython",
    "version": 3
   },
   "file_extension": ".py",
   "mimetype": "text/x-python",
   "name": "python",
   "nbconvert_exporter": "python",
   "pygments_lexer": "ipython3",
   "version": "3.11.8"
  }
 },
 "nbformat": 4,
 "nbformat_minor": 5
}
